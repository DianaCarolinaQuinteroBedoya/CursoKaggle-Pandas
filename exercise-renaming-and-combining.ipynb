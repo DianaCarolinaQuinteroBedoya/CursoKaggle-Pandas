{
 "cells": [
  {
   "cell_type": "markdown",
   "source": "**This notebook is an exercise in the [Pandas](https://www.kaggle.com/learn/pandas) course.  You can reference the tutorial at [this link](https://www.kaggle.com/residentmario/renaming-and-combining).**\n\n---\n",
   "metadata": {
    "cell_id": "b64615b7-e56c-41ea-a364-a075a297e632",
    "deepnote_cell_type": "markdown",
    "deepnote_cell_height": 89.78125
   }
  },
  {
   "cell_type": "markdown",
   "source": "# Introduction\n\nRun the following cell to load your data and some utility functions.",
   "metadata": {
    "cell_id": "00001-8430f80a-e713-4078-a6b9-681f8b6c76b9",
    "deepnote_cell_type": "markdown",
    "deepnote_cell_height": 120.390625
   }
  },
  {
   "cell_type": "code",
   "metadata": {
    "execution": {
     "iopub.status.busy": "2022-08-28T19:08:50.728428Z",
     "iopub.execute_input": "2022-08-28T19:08:50.728934Z",
     "iopub.status.idle": "2022-08-28T19:08:51.739048Z",
     "shell.execute_reply.started": "2022-08-28T19:08:50.728886Z",
     "shell.execute_reply": "2022-08-28T19:08:51.737917Z"
    },
    "trusted": true,
    "cell_id": "00002-6dd5943a-e30e-43df-9767-c1df8560c84a",
    "deepnote_cell_type": "code",
    "deepnote_cell_height": 174
   },
   "source": "import pandas as pd\n\nreviews = pd.read_csv(\"../input/wine-reviews/winemag-data-130k-v2.csv\", index_col=0)\n\nfrom learntools.core import binder; binder.bind(globals())\nfrom learntools.pandas.renaming_and_combining import *\nprint(\"Setup complete.\")",
   "outputs": [],
   "execution_count": null
  },
  {
   "cell_type": "markdown",
   "source": "# Exercises\n\nView the first several lines of your data by running the cell below:",
   "metadata": {
    "cell_id": "00003-e1535b2e-f762-492b-9959-0a66b78b37e5",
    "deepnote_cell_type": "markdown",
    "deepnote_cell_height": 120.390625
   }
  },
  {
   "cell_type": "code",
   "metadata": {
    "execution": {
     "iopub.status.busy": "2022-08-28T19:08:51.741076Z",
     "iopub.execute_input": "2022-08-28T19:08:51.741385Z",
     "iopub.status.idle": "2022-08-28T19:08:51.760896Z",
     "shell.execute_reply.started": "2022-08-28T19:08:51.741356Z",
     "shell.execute_reply": "2022-08-28T19:08:51.759693Z"
    },
    "trusted": true,
    "cell_id": "00004-f79f52b9-6466-4358-a2dc-c21af7026c99",
    "deepnote_cell_type": "code",
    "deepnote_cell_height": 61
   },
   "source": "reviews.head()",
   "outputs": [],
   "execution_count": null
  },
  {
   "cell_type": "markdown",
   "source": "## 1.\n`region_1` and `region_2` are pretty uninformative names for locale columns in the dataset. Create a copy of `reviews` with these columns renamed to `region` and `locale`, respectively.",
   "metadata": {
    "cell_id": "00005-74f0c4e5-2a7f-4ff3-a4b8-563bc8d5c46a",
    "deepnote_cell_type": "markdown",
    "deepnote_cell_height": 153.171875
   }
  },
  {
   "cell_type": "code",
   "metadata": {
    "execution": {
     "iopub.status.busy": "2022-08-28T19:08:51.762334Z",
     "iopub.execute_input": "2022-08-28T19:08:51.762668Z",
     "iopub.status.idle": "2022-08-28T19:08:51.774265Z",
     "shell.execute_reply.started": "2022-08-28T19:08:51.762638Z",
     "shell.execute_reply": "2022-08-28T19:08:51.773185Z"
    },
    "trusted": true,
    "cell_id": "00006-de84ae1d-41cc-4559-9b2e-34907a360c0b",
    "deepnote_cell_type": "code",
    "deepnote_cell_height": 138
   },
   "source": "# Your code here\nrenamed = reviews.rename(columns=dict(region_1='region', region_2='locale'))\n\n# Check your answer\nq1.check()",
   "outputs": [],
   "execution_count": null
  },
  {
   "cell_type": "code",
   "metadata": {
    "execution": {
     "iopub.status.busy": "2022-08-28T19:09:07.584345Z",
     "iopub.execute_input": "2022-08-28T19:09:07.584770Z",
     "iopub.status.idle": "2022-08-28T19:09:07.594941Z",
     "shell.execute_reply.started": "2022-08-28T19:09:07.584737Z",
     "shell.execute_reply": "2022-08-28T19:09:07.593824Z"
    },
    "trusted": true,
    "cell_id": "00007-ac8e2cea-fdc5-4aad-9891-d24965d4a07a",
    "deepnote_cell_type": "code",
    "deepnote_cell_height": 79
   },
   "source": "#q1.hint()\nq1.solution()",
   "outputs": [],
   "execution_count": null
  },
  {
   "cell_type": "markdown",
   "source": "## 2.\nSet the index name in the dataset to `wines`.",
   "metadata": {
    "cell_id": "00008-e4ce8446-2a32-41c3-92a3-8705935d65b0",
    "deepnote_cell_type": "markdown",
    "deepnote_cell_height": 108.390625
   }
  },
  {
   "cell_type": "code",
   "metadata": {
    "execution": {
     "iopub.status.busy": "2022-08-28T19:08:51.784659Z",
     "iopub.execute_input": "2022-08-28T19:08:51.785068Z",
     "iopub.status.idle": "2022-08-28T19:08:51.817462Z",
     "shell.execute_reply.started": "2022-08-28T19:08:51.785034Z",
     "shell.execute_reply": "2022-08-28T19:08:51.816361Z"
    },
    "trusted": true,
    "cell_id": "00009-5f65fc0c-de48-4473-8ffd-c4174dab9275",
    "deepnote_cell_type": "code",
    "deepnote_cell_height": 115
   },
   "source": "reindexed = reviews.rename_axis('wines', axis='rows')\n\n# Check your answer\nq2.check()",
   "outputs": [],
   "execution_count": null
  },
  {
   "cell_type": "code",
   "metadata": {
    "execution": {
     "iopub.status.busy": "2022-08-28T19:08:51.819086Z",
     "iopub.execute_input": "2022-08-28T19:08:51.819428Z",
     "iopub.status.idle": "2022-08-28T19:08:51.824357Z",
     "shell.execute_reply.started": "2022-08-28T19:08:51.819398Z",
     "shell.execute_reply": "2022-08-28T19:08:51.823202Z"
    },
    "trusted": true,
    "cell_id": "00010-a883db74-5ab5-41d5-a2fc-679e3fc32eb3",
    "deepnote_cell_type": "code",
    "deepnote_cell_height": 79
   },
   "source": "#q2.hint()\n#q2.solution()",
   "outputs": [],
   "execution_count": null
  },
  {
   "cell_type": "markdown",
   "source": "## 3.\nThe [Things on Reddit](https://www.kaggle.com/residentmario/things-on-reddit/data) dataset includes product links from a selection of top-ranked forums (\"subreddits\") on reddit.com. Run the cell below to load a dataframe of products mentioned on the */r/gaming* subreddit and another dataframe for products mentioned on the *r//movies* subreddit.",
   "metadata": {
    "cell_id": "00011-db8e5fb9-8a5a-4d4a-8ca2-b5ec5837db6f",
    "deepnote_cell_type": "markdown",
    "deepnote_cell_height": 175.5625
   }
  },
  {
   "cell_type": "code",
   "metadata": {
    "execution": {
     "iopub.status.busy": "2022-08-28T19:08:51.825879Z",
     "iopub.execute_input": "2022-08-28T19:08:51.826380Z",
     "iopub.status.idle": "2022-08-28T19:08:51.846132Z",
     "shell.execute_reply.started": "2022-08-28T19:08:51.826336Z",
     "shell.execute_reply": "2022-08-28T19:08:51.844950Z"
    },
    "trusted": true,
    "cell_id": "00012-3d2403be-4344-40ad-9e7a-451ada0e6422",
    "deepnote_cell_type": "code",
    "deepnote_cell_height": 120
   },
   "source": "gaming_products = pd.read_csv(\"../input/things-on-reddit/top-things/top-things/reddits/g/gaming.csv\")\ngaming_products['subreddit'] = \"r/gaming\"\nmovie_products = pd.read_csv(\"../input/things-on-reddit/top-things/top-things/reddits/m/movies.csv\")\nmovie_products['subreddit'] = \"r/movies\"",
   "outputs": [],
   "execution_count": null
  },
  {
   "cell_type": "markdown",
   "source": "Create a `DataFrame` of products mentioned on *either* subreddit.",
   "metadata": {
    "cell_id": "00013-0459e8fe-c3a7-45bc-9ac3-dd9f423244af",
    "deepnote_cell_type": "markdown",
    "deepnote_cell_height": 52.390625
   }
  },
  {
   "cell_type": "code",
   "metadata": {
    "execution": {
     "iopub.status.busy": "2022-08-28T19:08:51.847325Z",
     "iopub.execute_input": "2022-08-28T19:08:51.847642Z",
     "iopub.status.idle": "2022-08-28T19:08:51.862403Z",
     "shell.execute_reply.started": "2022-08-28T19:08:51.847614Z",
     "shell.execute_reply": "2022-08-28T19:08:51.861003Z"
    },
    "trusted": true,
    "cell_id": "00014-2b851100-7ccb-44bc-8cd1-c8edce31f38b",
    "deepnote_cell_type": "code",
    "deepnote_cell_height": 115
   },
   "source": "combined_products = pd.concat([gaming_products, movie_products])\n\n# Check your answer\nq3.check()",
   "outputs": [],
   "execution_count": null
  },
  {
   "cell_type": "code",
   "metadata": {
    "execution": {
     "iopub.status.busy": "2022-08-28T19:08:51.863797Z",
     "iopub.execute_input": "2022-08-28T19:08:51.864570Z",
     "iopub.status.idle": "2022-08-28T19:08:51.869504Z",
     "shell.execute_reply.started": "2022-08-28T19:08:51.864529Z",
     "shell.execute_reply": "2022-08-28T19:08:51.868291Z"
    },
    "trusted": true,
    "cell_id": "00015-693129c3-9d72-4b98-8bb2-1df79c3d1c24",
    "deepnote_cell_type": "code",
    "deepnote_cell_height": 79
   },
   "source": "#q3.hint()\n#q3.solution()",
   "outputs": [],
   "execution_count": null
  },
  {
   "cell_type": "markdown",
   "source": "## 4.\nThe [Powerlifting Database](https://www.kaggle.com/open-powerlifting/powerlifting-database) dataset on Kaggle includes one CSV table for powerlifting meets and a separate one for powerlifting competitors. Run the cell below to load these datasets into dataframes:",
   "metadata": {
    "cell_id": "00016-b30ea313-6c60-454c-8cdc-b904a6d755b6",
    "deepnote_cell_type": "markdown",
    "deepnote_cell_height": 153.171875
   }
  },
  {
   "cell_type": "code",
   "metadata": {
    "execution": {
     "iopub.status.busy": "2022-08-28T19:08:51.871344Z",
     "iopub.execute_input": "2022-08-28T19:08:51.872103Z",
     "iopub.status.idle": "2022-08-28T19:08:52.580159Z",
     "shell.execute_reply.started": "2022-08-28T19:08:51.872051Z",
     "shell.execute_reply": "2022-08-28T19:08:52.578773Z"
    },
    "trusted": true,
    "cell_id": "00017-216cb421-a751-46eb-8eaf-2a090b14dcfb",
    "deepnote_cell_type": "code",
    "deepnote_cell_height": 84
   },
   "source": "powerlifting_meets = pd.read_csv(\"../input/powerlifting-database/meets.csv\")\npowerlifting_competitors = pd.read_csv(\"../input/powerlifting-database/openpowerlifting.csv\")",
   "outputs": [],
   "execution_count": null
  },
  {
   "cell_type": "markdown",
   "source": "Both tables include references to a `MeetID`, a unique key for each meet (competition) included in the database. Using this, generate a dataset combining the two tables into one.",
   "metadata": {
    "cell_id": "00018-04979018-f2d7-435d-ad61-9e28c88c7d63",
    "deepnote_cell_type": "markdown",
    "deepnote_cell_height": 97.171875
   }
  },
  {
   "cell_type": "code",
   "metadata": {
    "execution": {
     "iopub.status.busy": "2022-08-28T19:08:52.581745Z",
     "iopub.execute_input": "2022-08-28T19:08:52.582159Z",
     "iopub.status.idle": "2022-08-28T19:08:53.517678Z",
     "shell.execute_reply.started": "2022-08-28T19:08:52.582123Z",
     "shell.execute_reply": "2022-08-28T19:08:53.516420Z"
    },
    "trusted": true,
    "cell_id": "00019-a58687c8-17fe-4eac-944d-a1bf5685ab20",
    "deepnote_cell_type": "code",
    "deepnote_cell_height": 120
   },
   "source": "powerlifting_combined = powerlifting_meets.set_index(\"MeetID\").join(powerlifting_competitors.set_index(\"MeetID\"))\n\n# Check your answer\nq4.check()",
   "outputs": [],
   "execution_count": null
  },
  {
   "cell_type": "code",
   "metadata": {
    "execution": {
     "iopub.status.busy": "2022-08-28T19:08:53.519538Z",
     "iopub.execute_input": "2022-08-28T19:08:53.519935Z",
     "iopub.status.idle": "2022-08-28T19:08:53.524152Z",
     "shell.execute_reply.started": "2022-08-28T19:08:53.519899Z",
     "shell.execute_reply": "2022-08-28T19:08:53.523241Z"
    },
    "trusted": true,
    "cell_id": "00020-a7c61386-55ea-427f-ac24-24d17ba86c48",
    "deepnote_cell_type": "code",
    "deepnote_cell_height": 79
   },
   "source": "#q4.hint()\n#q4.solution()",
   "outputs": [],
   "execution_count": null
  },
  {
   "cell_type": "markdown",
   "source": "# Congratulations!\n\nYou've finished the Pandas micro-course.  Many data scientists feel efficiency with Pandas is the most useful and practical skill they have, because it allows you to progress quickly in any project you have.\n\nIf you'd like to apply your new skills to examining geospatial data, you're encouraged to check out our **[Geospatial Analysis](https://www.kaggle.com/learn/geospatial-analysis)** micro-course.\n\nYou can also take advantage of your Pandas skills by entering a **[Kaggle Competition](https://www.kaggle.com/competitions)** or by answering a question you find interesting using **[Kaggle Datasets](https://www.kaggle.com/datasets)**.",
   "metadata": {
    "cell_id": "00021-5c45ca7b-e2ec-4e12-ab4c-82e126d67ee6",
    "deepnote_cell_type": "markdown",
    "deepnote_cell_height": 282.734375
   }
  },
  {
   "cell_type": "markdown",
   "source": "---\n\n\n\n\n*Have questions or comments? Visit the [course discussion forum](https://www.kaggle.com/learn/pandas/discussion) to chat with other learners.*",
   "metadata": {
    "cell_id": "00022-2c0a0353-018e-4998-b5f4-72941a78ac84",
    "deepnote_cell_type": "markdown",
    "deepnote_cell_height": 75.78125
   }
  },
  {
   "cell_type": "markdown",
   "source": "<a style='text-decoration:none;line-height:16px;display:flex;color:#5B5B62;padding:10px;justify-content:end;' href='https://deepnote.com?utm_source=created-in-deepnote-cell&projectId=c9364e16-cfb5-434b-9bdc-249df55e7ba8' target=\"_blank\">\n<img alt='Created in deepnote.com' style='display:inline;max-height:16px;margin:0px;margin-right:7.5px;' src='data:image/svg+xml;base64,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' > </img>\nCreated in <span style='font-weight:600;margin-left:4px;'>Deepnote</span></a>",
   "metadata": {
    "tags": [],
    "created_in_deepnote_cell": true,
    "deepnote_cell_type": "markdown"
   }
  }
 ],
 "nbformat": 4,
 "nbformat_minor": 4,
 "metadata": {
  "kernelspec": {
   "display_name": "Python 3",
   "language": "python",
   "name": "python3"
  },
  "language_info": {
   "name": "python",
   "version": "3.7.12",
   "mimetype": "text/x-python",
   "codemirror_mode": {
    "name": "ipython",
    "version": 3
   },
   "pygments_lexer": "ipython3",
   "nbconvert_exporter": "python",
   "file_extension": ".py"
  },
  "deepnote_notebook_id": "12afc2ce-98f6-481e-978c-544d8f7d004b",
  "deepnote": {},
  "deepnote_execution_queue": []
 }
}