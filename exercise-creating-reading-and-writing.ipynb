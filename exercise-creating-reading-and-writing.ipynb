{
 "cells": [
  {
   "cell_type": "markdown",
   "source": "**This notebook is an exercise in the [Pandas](https://www.kaggle.com/learn/pandas) course.  You can reference the tutorial at [this link](https://www.kaggle.com/residentmario/creating-reading-and-writing).**\n\n---\n",
   "metadata": {
    "cell_id": "4f58dafe-6ef9-45d6-ba91-7c27de0291d6",
    "deepnote_cell_type": "markdown",
    "deepnote_cell_height": 89.78125
   }
  },
  {
   "cell_type": "markdown",
   "source": "# Introduction\n\nThe first step in most data analytics projects is reading the data file. In this exercise, you'll create Series and DataFrame objects, both by hand and by reading data files.\n\nRun the code cell below to load libraries you will need (including code to check your answers).",
   "metadata": {
    "cell_id": "00001-50ac02dc-ab4c-48e4-87c9-f8e3b60e07cf",
    "deepnote_cell_type": "markdown",
    "deepnote_cell_height": 201.5625
   }
  },
  {
   "cell_type": "code",
   "metadata": {
    "execution": {
     "iopub.status.busy": "2022-08-28T17:28:17.850811Z",
     "iopub.execute_input": "2022-08-28T17:28:17.851090Z",
     "iopub.status.idle": "2022-08-28T17:28:19.360701Z",
     "shell.execute_reply.started": "2022-08-28T17:28:17.851066Z",
     "shell.execute_reply": "2022-08-28T17:28:19.359756Z"
    },
    "trusted": true,
    "cell_id": "00002-6a316cb6-bd63-4464-beeb-5f8c229174dd",
    "deepnote_cell_type": "code",
    "deepnote_cell_height": 133
   },
   "source": "import pandas as pd\npd.set_option('max_rows', 5)\nfrom learntools.core import binder; binder.bind(globals())\nfrom learntools.pandas.creating_reading_and_writing import *\nprint(\"Setup complete.\")",
   "outputs": [],
   "execution_count": null
  },
  {
   "cell_type": "markdown",
   "source": "# Exercises",
   "metadata": {
    "cell_id": "00003-17164c1e-d6cc-4996-9884-ba72020733d5",
    "deepnote_cell_type": "markdown",
    "deepnote_cell_height": 82
   }
  },
  {
   "cell_type": "markdown",
   "source": "## 1.\n\nIn the cell below, create a DataFrame `fruits` that looks like this:\n\n![](https://i.imgur.com/Ax3pp2A.png)",
   "metadata": {
    "cell_id": "00004-30c52298-a528-4c70-853e-617e931d67ea",
    "deepnote_cell_type": "markdown",
    "deepnote_cell_height": 240.390625
   }
  },
  {
   "cell_type": "code",
   "metadata": {
    "execution": {
     "iopub.status.busy": "2022-08-28T17:28:24.204397Z",
     "iopub.execute_input": "2022-08-28T17:28:24.204705Z",
     "iopub.status.idle": "2022-08-28T17:28:24.224917Z",
     "shell.execute_reply.started": "2022-08-28T17:28:24.204681Z",
     "shell.execute_reply": "2022-08-28T17:28:24.223841Z"
    },
    "trusted": true,
    "cell_id": "00005-0f7c627a-f343-46de-9d37-d677372a8c30",
    "deepnote_cell_type": "code",
    "deepnote_cell_height": 156
   },
   "source": "# Your code goes here. Create a dataframe matching the above diagram and assign it to the variable fruits.\nfruits = pd.DataFrame({'Apples':[30], 'Bananas':[21]})\n\n# Check your answer\nq1.check()\nfruits",
   "outputs": [],
   "execution_count": null
  },
  {
   "cell_type": "code",
   "metadata": {
    "cell_id": "00006-a5651224-807a-4532-ac08-625840d530be",
    "deepnote_cell_type": "code",
    "deepnote_cell_height": 79
   },
   "source": "#q1.hint()\n#q1.solution()",
   "execution_count": null,
   "outputs": []
  },
  {
   "cell_type": "markdown",
   "source": "## 2.\n\nCreate a dataframe `fruit_sales` that matches the diagram below:\n\n![](https://i.imgur.com/CHPn7ZF.png)",
   "metadata": {
    "cell_id": "00007-ab41a67b-ed72-4578-920f-d1f36fe9b88a",
    "deepnote_cell_type": "markdown",
    "deepnote_cell_height": 148.390625
   }
  },
  {
   "cell_type": "code",
   "metadata": {
    "execution": {
     "iopub.status.busy": "2022-08-28T17:30:56.028456Z",
     "iopub.execute_input": "2022-08-28T17:30:56.028801Z",
     "iopub.status.idle": "2022-08-28T17:30:56.043867Z",
     "shell.execute_reply.started": "2022-08-28T17:30:56.028775Z",
     "shell.execute_reply": "2022-08-28T17:30:56.043012Z"
    },
    "trusted": true,
    "cell_id": "00008-7acadce4-cc53-4fbd-a16b-4740715a5900",
    "deepnote_cell_type": "code",
    "deepnote_cell_height": 210
   },
   "source": "# Your code goes here. Create a dataframe matching the above diagram and assign it to the variable fruit_sales.\nfruit_sales = pd.DataFrame({'Apples':[35, 41], \n                            'Bananas':[21, 34]},\n                          index = ['2017 Sales','2018 Sales'])\n\n\n# Check your answer\nq2.check()\nfruit_sales",
   "outputs": [],
   "execution_count": null
  },
  {
   "cell_type": "code",
   "metadata": {
    "execution": {
     "iopub.status.busy": "2022-08-28T17:31:30.367069Z",
     "iopub.execute_input": "2022-08-28T17:31:30.367403Z",
     "iopub.status.idle": "2022-08-28T17:31:30.372147Z",
     "shell.execute_reply.started": "2022-08-28T17:31:30.367375Z",
     "shell.execute_reply": "2022-08-28T17:31:30.371058Z"
    },
    "trusted": true,
    "cell_id": "00009-8916a7c6-abce-4b41-acbb-6e355ec27345",
    "deepnote_cell_type": "code",
    "deepnote_cell_height": 79
   },
   "source": "#q2.hint()\n#q2.solution()",
   "outputs": [],
   "execution_count": null
  },
  {
   "cell_type": "markdown",
   "source": "## 3.\n\nCreate a variable `ingredients` with a Series that looks like:\n\n```\nFlour     4 cups\nMilk       1 cup\nEggs     2 large\nSpam       1 can\nName: Dinner, dtype: object\n```",
   "metadata": {
    "cell_id": "00010-2c01468d-e447-4e6c-9e2f-3727e5796b12",
    "deepnote_cell_type": "markdown",
    "deepnote_cell_height": 246.375
   }
  },
  {
   "cell_type": "code",
   "metadata": {
    "execution": {
     "iopub.status.busy": "2022-08-28T17:33:38.968060Z",
     "iopub.execute_input": "2022-08-28T17:33:38.968377Z",
     "iopub.status.idle": "2022-08-28T17:33:38.981130Z",
     "shell.execute_reply.started": "2022-08-28T17:33:38.968353Z",
     "shell.execute_reply": "2022-08-28T17:33:38.980084Z"
    },
    "trusted": true,
    "cell_id": "00011-a30e549d-c381-4140-84b1-dde31609df96",
    "deepnote_cell_type": "code",
    "deepnote_cell_height": 169
   },
   "source": "ingredients = pd.Series(['4 cups', '1 cup', '2 large', '1 can'],\n                       index = ['Flour', 'Milk', 'Eggs','Spam'],\n                       name = 'Dinner')\n\n# Check your answer\nq3.check()\ningredients",
   "outputs": [],
   "execution_count": null
  },
  {
   "cell_type": "code",
   "metadata": {
    "cell_id": "00012-250bc51f-fe70-4186-a415-e8fa28d65a6d",
    "deepnote_cell_type": "code",
    "deepnote_cell_height": 79
   },
   "source": "#q3.hint()\n#q3.solution()",
   "execution_count": null,
   "outputs": []
  },
  {
   "cell_type": "markdown",
   "source": "## 4.\n\nRead the following csv dataset of wine reviews into a DataFrame called `reviews`:\n\n![](https://i.imgur.com/74RCZtU.png)\n\nThe filepath to the csv file is `../input/wine-reviews/winemag-data_first150k.csv`. The first few lines look like:\n\n```\n,country,description,designation,points,price,province,region_1,region_2,variety,winery\n0,US,\"This tremendous 100% varietal wine[...]\",Martha's Vineyard,96,235.0,California,Napa Valley,Napa,Cabernet Sauvignon,Heitz\n1,Spain,\"Ripe aromas of fig, blackberry and[...]\",Carodorum Selección Especial Reserva,96,110.0,Northern Spain,Toro,,Tinta de Toro,Bodega Carmen Rodríguez\n```",
   "metadata": {
    "cell_id": "00013-26040a7d-e39b-4c45-b69c-9ac24cd26ec3",
    "deepnote_cell_type": "markdown",
    "deepnote_cell_height": 346.15625
   }
  },
  {
   "cell_type": "code",
   "metadata": {
    "execution": {
     "iopub.status.busy": "2022-08-28T17:35:32.750818Z",
     "iopub.execute_input": "2022-08-28T17:35:32.751261Z",
     "iopub.status.idle": "2022-08-28T17:35:33.435087Z",
     "shell.execute_reply.started": "2022-08-28T17:35:32.751238Z",
     "shell.execute_reply": "2022-08-28T17:35:33.434040Z"
    },
    "trusted": true,
    "cell_id": "00014-bbd19742-aaf1-458e-8d1d-c8f7b151a8d0",
    "deepnote_cell_type": "code",
    "deepnote_cell_height": 138
   },
   "source": "reviews = pd.read_csv(\"../input/wine-reviews/winemag-data_first150k.csv\")\n\n# Check your answer\nq4.check()\nreviews",
   "outputs": [],
   "execution_count": null
  },
  {
   "cell_type": "code",
   "metadata": {
    "cell_id": "00015-aa6e37ae-87e1-4249-8852-2c63e1d3509a",
    "deepnote_cell_type": "code",
    "deepnote_cell_height": 79
   },
   "source": "#q4.hint()\n#q4.solution()",
   "execution_count": null,
   "outputs": []
  },
  {
   "cell_type": "markdown",
   "source": "## 5.\n\nRun the cell below to create and display a DataFrame called `animals`:",
   "metadata": {
    "cell_id": "00016-9516f4ee-87c5-4829-bcd0-c04452af97bb",
    "deepnote_cell_type": "markdown",
    "deepnote_cell_height": 108.390625
   }
  },
  {
   "cell_type": "code",
   "metadata": {
    "execution": {
     "iopub.status.busy": "2022-08-28T17:36:41.047133Z",
     "iopub.execute_input": "2022-08-28T17:36:41.047438Z",
     "iopub.status.idle": "2022-08-28T17:36:41.057255Z",
     "shell.execute_reply.started": "2022-08-28T17:36:41.047414Z",
     "shell.execute_reply": "2022-08-28T17:36:41.056556Z"
    },
    "trusted": true,
    "cell_id": "00017-316b3c57-1310-4b68-942e-e040c8ce188f",
    "deepnote_cell_type": "code",
    "deepnote_cell_height": 84
   },
   "source": "animals = pd.DataFrame({'Cows': [12, 20], 'Goats': [22, 19]}, index=['Year 1', 'Year 2'])\nanimals",
   "outputs": [],
   "execution_count": null
  },
  {
   "cell_type": "markdown",
   "source": "In the cell below, write code to save this DataFrame to disk as a csv file with the name `cows_and_goats.csv`.",
   "metadata": {
    "cell_id": "00018-1ba1b715-c4a3-426d-95a0-d408a95df2de",
    "deepnote_cell_type": "markdown",
    "deepnote_cell_height": 74.78125
   }
  },
  {
   "cell_type": "code",
   "metadata": {
    "execution": {
     "iopub.status.busy": "2022-08-28T17:40:07.971686Z",
     "iopub.execute_input": "2022-08-28T17:40:07.972071Z",
     "iopub.status.idle": "2022-08-28T17:40:07.999979Z",
     "shell.execute_reply.started": "2022-08-28T17:40:07.972046Z",
     "shell.execute_reply": "2022-08-28T17:40:07.998699Z"
    },
    "trusted": true,
    "cell_id": "00019-d55ac55b-2d44-42f5-8780-5f7115bbfd2d",
    "deepnote_cell_type": "code",
    "deepnote_cell_height": 115
   },
   "source": "# Your code goes here\nanimals.to_csv('cows_and_goats.csv')\n# Check your answer\nq5.check()",
   "outputs": [],
   "execution_count": null
  },
  {
   "cell_type": "code",
   "metadata": {
    "cell_id": "00020-50ebe222-f958-4460-979e-6c684be864ae",
    "deepnote_cell_type": "code",
    "deepnote_cell_height": 79
   },
   "source": "#q5.hint()\n#q5.solution()",
   "execution_count": null,
   "outputs": []
  },
  {
   "cell_type": "markdown",
   "source": "# Keep going\n\nMove on to learn about **[indexing, selecting and assigning](https://www.kaggle.com/residentmario/indexing-selecting-assigning)**.",
   "metadata": {
    "cell_id": "00021-496e8b35-51e9-4ad2-9762-b5b6cf25cc1d",
    "deepnote_cell_type": "markdown",
    "deepnote_cell_height": 120.390625
   }
  },
  {
   "cell_type": "markdown",
   "source": "---\n\n\n\n\n*Have questions or comments? Visit the [course discussion forum](https://www.kaggle.com/learn/pandas/discussion) to chat with other learners.*",
   "metadata": {
    "cell_id": "00022-62e7ee36-deb8-4c8f-bc18-2e45f66544c3",
    "deepnote_cell_type": "markdown",
    "deepnote_cell_height": 75.78125
   }
  },
  {
   "cell_type": "markdown",
   "source": "<a style='text-decoration:none;line-height:16px;display:flex;color:#5B5B62;padding:10px;justify-content:end;' href='https://deepnote.com?utm_source=created-in-deepnote-cell&projectId=40b90fa1-96c3-419f-8e36-5552194d70af' target=\"_blank\">\n<img alt='Created in deepnote.com' style='display:inline;max-height:16px;margin:0px;margin-right:7.5px;' src='data:image/svg+xml;base64,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' > </img>\nCreated in <span style='font-weight:600;margin-left:4px;'>Deepnote</span></a>",
   "metadata": {
    "tags": [],
    "created_in_deepnote_cell": true,
    "deepnote_cell_type": "markdown"
   }
  }
 ],
 "nbformat": 4,
 "nbformat_minor": 4,
 "metadata": {
  "kernelspec": {
   "display_name": "Python 3",
   "language": "python",
   "name": "python3"
  },
  "language_info": {
   "name": "python",
   "version": "3.7.12",
   "mimetype": "text/x-python",
   "codemirror_mode": {
    "name": "ipython",
    "version": 3
   },
   "pygments_lexer": "ipython3",
   "nbconvert_exporter": "python",
   "file_extension": ".py"
  },
  "deepnote_notebook_id": "15b03d89-e4f0-489f-be97-17fcccf2e537",
  "deepnote": {},
  "deepnote_execution_queue": []
 }
}