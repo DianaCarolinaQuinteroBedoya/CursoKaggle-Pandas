{
 "cells": [
  {
   "cell_type": "markdown",
   "source": "**This notebook is an exercise in the [Pandas](https://www.kaggle.com/learn/pandas) course.  You can reference the tutorial at [this link](https://www.kaggle.com/residentmario/indexing-selecting-assigning).**\n\n---\n",
   "metadata": {
    "cell_id": "e2b13862-ebab-4a1f-9c20-2228d0213ade",
    "deepnote_cell_type": "markdown",
    "deepnote_cell_height": 89.78125
   }
  },
  {
   "cell_type": "markdown",
   "source": "# Introduction\n\nIn this set of exercises we will work with the [Wine Reviews dataset](https://www.kaggle.com/zynicide/wine-reviews). ",
   "metadata": {
    "cell_id": "00001-38fc1ef3-5c85-4ae3-964c-ed0ebe30af62",
    "deepnote_cell_type": "markdown",
    "deepnote_cell_height": 120.390625
   }
  },
  {
   "cell_type": "markdown",
   "source": "Run the following cell to load your data and some utility functions (including code to check your answers).",
   "metadata": {
    "cell_id": "00002-032024d2-bdde-4d3f-9105-be7351cd943a",
    "deepnote_cell_type": "markdown",
    "deepnote_cell_height": 74.78125
   }
  },
  {
   "cell_type": "code",
   "metadata": {
    "execution": {
     "iopub.status.busy": "2022-08-28T17:57:55.411236Z",
     "iopub.execute_input": "2022-08-28T17:57:55.412536Z",
     "iopub.status.idle": "2022-08-28T17:57:58.756461Z",
     "shell.execute_reply.started": "2022-08-28T17:57:55.412350Z",
     "shell.execute_reply": "2022-08-28T17:57:58.755040Z"
    },
    "trusted": true,
    "cell_id": "00003-58420fa7-ce30-474f-b82c-174612de276c",
    "deepnote_cell_type": "code",
    "deepnote_cell_height": 192
   },
   "source": "import pandas as pd\n\nreviews = pd.read_csv(\"../input/wine-reviews/winemag-data-130k-v2.csv\", index_col=0)\npd.set_option(\"display.max_rows\", 5)\n\nfrom learntools.core import binder; binder.bind(globals())\nfrom learntools.pandas.indexing_selecting_and_assigning import *\nprint(\"Setup complete.\")",
   "outputs": [],
   "execution_count": null
  },
  {
   "cell_type": "markdown",
   "source": "Look at an overview of your data by running the following line.",
   "metadata": {
    "cell_id": "00004-44a78019-3ae9-4056-ae7d-88fac5adc9ff",
    "deepnote_cell_type": "markdown",
    "deepnote_cell_height": 52.390625
   }
  },
  {
   "cell_type": "code",
   "metadata": {
    "execution": {
     "iopub.status.busy": "2022-08-28T17:58:01.294796Z",
     "iopub.execute_input": "2022-08-28T17:58:01.295854Z",
     "iopub.status.idle": "2022-08-28T17:58:01.321714Z",
     "shell.execute_reply.started": "2022-08-28T17:58:01.295807Z",
     "shell.execute_reply": "2022-08-28T17:58:01.320497Z"
    },
    "trusted": true,
    "cell_id": "00005-b8c124b3-6083-4efe-a715-56cee52efec0",
    "deepnote_cell_type": "code",
    "deepnote_cell_height": 61
   },
   "source": "reviews.head()",
   "outputs": [],
   "execution_count": null
  },
  {
   "cell_type": "markdown",
   "source": "# Exercises",
   "metadata": {
    "cell_id": "00006-1eedbca8-9f6f-44b6-bd2e-07589d07f43f",
    "deepnote_cell_type": "markdown",
    "deepnote_cell_height": 82
   }
  },
  {
   "cell_type": "markdown",
   "source": "## 1.\n\nSelect the `description` column from `reviews` and assign the result to the variable `desc`.",
   "metadata": {
    "cell_id": "00007-ae59ee11-b406-43e6-9af2-fda7d41d538e",
    "deepnote_cell_type": "markdown",
    "deepnote_cell_height": 130.78125
   }
  },
  {
   "cell_type": "code",
   "metadata": {
    "execution": {
     "iopub.status.busy": "2022-08-28T17:59:46.525553Z",
     "iopub.execute_input": "2022-08-28T17:59:46.526016Z",
     "iopub.status.idle": "2022-08-28T17:59:46.536522Z",
     "shell.execute_reply.started": "2022-08-28T17:59:46.525980Z",
     "shell.execute_reply": "2022-08-28T17:59:46.535274Z"
    },
    "trusted": true,
    "cell_id": "00008-0e3c2d27-3f65-459d-b1bf-dc1cc95da4ed",
    "deepnote_cell_type": "code",
    "deepnote_cell_height": 133
   },
   "source": "# Your code here\ndesc = reviews['description']\n\n# Check your answer\nq1.check()",
   "outputs": [],
   "execution_count": null
  },
  {
   "cell_type": "markdown",
   "source": "Follow-up question: what type of object is `desc`? If you're not sure, you can check by calling Python's `type` function: `type(desc)`.",
   "metadata": {
    "cell_id": "00009-fa0cb3e8-1f1d-4d73-9683-9be4f095dc82",
    "deepnote_cell_type": "markdown",
    "deepnote_cell_height": 74.78125
   }
  },
  {
   "cell_type": "code",
   "metadata": {
    "execution": {
     "iopub.status.busy": "2022-08-28T17:59:57.057268Z",
     "iopub.execute_input": "2022-08-28T17:59:57.057693Z",
     "iopub.status.idle": "2022-08-28T17:59:57.062537Z",
     "shell.execute_reply.started": "2022-08-28T17:59:57.057659Z",
     "shell.execute_reply": "2022-08-28T17:59:57.061400Z"
    },
    "trusted": true,
    "cell_id": "00010-d3d02f05-c5ff-4ce8-97aa-663085e75270",
    "deepnote_cell_type": "code",
    "deepnote_cell_height": 79
   },
   "source": "#q1.hint()\n#q1.solution()",
   "outputs": [],
   "execution_count": null
  },
  {
   "cell_type": "markdown",
   "source": "## 2.\n\nSelect the first value from the description column of `reviews`, assigning it to variable `first_description`.",
   "metadata": {
    "cell_id": "00011-4aed03ca-5808-4662-a28a-fc7a8b19006e",
    "deepnote_cell_type": "markdown",
    "deepnote_cell_height": 130.78125
   }
  },
  {
   "cell_type": "code",
   "metadata": {
    "execution": {
     "iopub.status.busy": "2022-08-28T18:01:28.817142Z",
     "iopub.execute_input": "2022-08-28T18:01:28.817552Z",
     "iopub.status.idle": "2022-08-28T18:01:28.831443Z",
     "shell.execute_reply.started": "2022-08-28T18:01:28.817519Z",
     "shell.execute_reply": "2022-08-28T18:01:28.829984Z"
    },
    "trusted": true,
    "cell_id": "00012-87b04d83-b64d-4397-92c0-612c55ce69b2",
    "deepnote_cell_type": "code",
    "deepnote_cell_height": 133
   },
   "source": "first_description = reviews.description[0]\n\n# Check your answer\nq2.check()\nfirst_description",
   "outputs": [],
   "execution_count": null
  },
  {
   "cell_type": "code",
   "metadata": {
    "execution": {
     "iopub.status.busy": "2022-08-28T18:00:48.522829Z",
     "iopub.execute_input": "2022-08-28T18:00:48.523276Z",
     "iopub.status.idle": "2022-08-28T18:00:48.528531Z",
     "shell.execute_reply.started": "2022-08-28T18:00:48.523223Z",
     "shell.execute_reply": "2022-08-28T18:00:48.527227Z"
    },
    "trusted": true,
    "cell_id": "00013-a6788d64-4add-4417-acb5-b444bf704430",
    "deepnote_cell_type": "code",
    "deepnote_cell_height": 79
   },
   "source": "#q2.hint()\n#q2.solution()",
   "outputs": [],
   "execution_count": null
  },
  {
   "cell_type": "markdown",
   "source": "## 3. \n\nSelect the first row of data (the first record) from `reviews`, assigning it to the variable `first_row`.",
   "metadata": {
    "cell_id": "00014-93522c46-2936-4429-98f4-720829ef8e5b",
    "deepnote_cell_type": "markdown",
    "deepnote_cell_height": 130.78125
   }
  },
  {
   "cell_type": "code",
   "metadata": {
    "execution": {
     "iopub.status.busy": "2022-08-28T18:02:04.251667Z",
     "iopub.execute_input": "2022-08-28T18:02:04.252070Z",
     "iopub.status.idle": "2022-08-28T18:02:04.267140Z",
     "shell.execute_reply.started": "2022-08-28T18:02:04.252033Z",
     "shell.execute_reply": "2022-08-28T18:02:04.265988Z"
    },
    "trusted": true,
    "cell_id": "00015-7781dc36-b873-4b8b-8794-10f313b1c449",
    "deepnote_cell_type": "code",
    "deepnote_cell_height": 133
   },
   "source": "first_row = reviews.iloc[0]\n\n# Check your answer\nq3.check()\nfirst_row",
   "outputs": [],
   "execution_count": null
  },
  {
   "cell_type": "code",
   "metadata": {
    "execution": {
     "iopub.status.busy": "2022-08-28T18:02:29.381952Z",
     "iopub.execute_input": "2022-08-28T18:02:29.382387Z",
     "iopub.status.idle": "2022-08-28T18:02:29.387153Z",
     "shell.execute_reply.started": "2022-08-28T18:02:29.382350Z",
     "shell.execute_reply": "2022-08-28T18:02:29.386144Z"
    },
    "trusted": true,
    "cell_id": "00016-49fae130-7b23-4625-b411-4c5d408ecedc",
    "deepnote_cell_type": "code",
    "deepnote_cell_height": 79
   },
   "source": "#q3.hint()\n#q3.solution()",
   "outputs": [],
   "execution_count": null
  },
  {
   "cell_type": "markdown",
   "source": "## 4.\n\nSelect the first 10 values from the `description` column in `reviews`, assigning the result to variable `first_descriptions`.\n\nHint: format your output as a pandas Series.",
   "metadata": {
    "cell_id": "00017-fe9e8fc9-357c-417f-b05f-f4818fa5cc6b",
    "deepnote_cell_type": "markdown",
    "deepnote_cell_height": 167.171875
   }
  },
  {
   "cell_type": "code",
   "metadata": {
    "execution": {
     "iopub.status.busy": "2022-08-28T18:05:11.565059Z",
     "iopub.execute_input": "2022-08-28T18:05:11.566069Z",
     "iopub.status.idle": "2022-08-28T18:05:11.578764Z",
     "shell.execute_reply.started": "2022-08-28T18:05:11.566030Z",
     "shell.execute_reply": "2022-08-28T18:05:11.577578Z"
    },
    "trusted": true,
    "cell_id": "00018-4896daa5-d2f2-42ce-879c-bb02026462a4",
    "deepnote_cell_type": "code",
    "deepnote_cell_height": 133
   },
   "source": "first_descriptions = reviews.loc[:9,'description']\n\n# Check your answer\nq4.check()\nfirst_descriptions",
   "outputs": [],
   "execution_count": null
  },
  {
   "cell_type": "code",
   "metadata": {
    "execution": {
     "iopub.status.busy": "2022-08-28T18:05:08.554182Z",
     "iopub.execute_input": "2022-08-28T18:05:08.554600Z",
     "iopub.status.idle": "2022-08-28T18:05:08.559757Z",
     "shell.execute_reply.started": "2022-08-28T18:05:08.554563Z",
     "shell.execute_reply": "2022-08-28T18:05:08.558444Z"
    },
    "trusted": true,
    "cell_id": "00019-563af2a0-ab7e-4c8b-aaf6-c55fa686f489",
    "deepnote_cell_type": "code",
    "deepnote_cell_height": 79
   },
   "source": "#q4.hint()\n#q4.solution()",
   "outputs": [],
   "execution_count": null
  },
  {
   "cell_type": "markdown",
   "source": "## 5.\n\nSelect the records with index labels `1`, `2`, `3`, `5`, and `8`, assigning the result to the variable `sample_reviews`.\n\nIn other words, generate the following DataFrame:\n\n![](https://i.imgur.com/sHZvI1O.png)",
   "metadata": {
    "cell_id": "00020-1d4034da-1ee3-47e4-bfb2-2055432a6cd3",
    "deepnote_cell_type": "markdown",
    "deepnote_cell_height": 207.171875
   }
  },
  {
   "cell_type": "code",
   "metadata": {
    "execution": {
     "iopub.status.busy": "2022-08-28T18:06:00.227534Z",
     "iopub.execute_input": "2022-08-28T18:06:00.227985Z",
     "iopub.status.idle": "2022-08-28T18:06:00.257553Z",
     "shell.execute_reply.started": "2022-08-28T18:06:00.227947Z",
     "shell.execute_reply": "2022-08-28T18:06:00.256645Z"
    },
    "trusted": true,
    "cell_id": "00021-86ab5dd5-a35c-4ce0-84a6-c86d67be7061",
    "deepnote_cell_type": "code",
    "deepnote_cell_height": 133
   },
   "source": "sample_reviews = reviews.loc[[1, 2, 3, 5, 8]]\n\n# Check your answer\nq5.check()\nsample_reviews",
   "outputs": [],
   "execution_count": null
  },
  {
   "cell_type": "code",
   "metadata": {
    "execution": {
     "iopub.status.busy": "2022-08-28T18:06:07.135296Z",
     "iopub.execute_input": "2022-08-28T18:06:07.135728Z",
     "iopub.status.idle": "2022-08-28T18:06:07.141390Z",
     "shell.execute_reply.started": "2022-08-28T18:06:07.135690Z",
     "shell.execute_reply": "2022-08-28T18:06:07.140084Z"
    },
    "trusted": true,
    "cell_id": "00022-4555e803-d768-49e5-a25d-f4b63d8c647d",
    "deepnote_cell_type": "code",
    "deepnote_cell_height": 79
   },
   "source": "#q5.hint()\n#q5.solution()",
   "outputs": [],
   "execution_count": null
  },
  {
   "cell_type": "markdown",
   "source": "## 6.\n\nCreate a variable `df` containing the `country`, `province`, `region_1`, and `region_2` columns of the records with the index labels `0`, `1`, `10`, and `100`. In other words, generate the following DataFrame:\n\n![](https://i.imgur.com/FUCGiKP.png)",
   "metadata": {
    "cell_id": "00023-83bc09b1-d273-4c19-a2dd-a392d79732e6",
    "deepnote_cell_type": "markdown",
    "deepnote_cell_height": 193.171875
   }
  },
  {
   "cell_type": "code",
   "metadata": {
    "execution": {
     "iopub.status.busy": "2022-08-28T18:08:45.866783Z",
     "iopub.execute_input": "2022-08-28T18:08:45.867211Z",
     "iopub.status.idle": "2022-08-28T18:08:45.892098Z",
     "shell.execute_reply.started": "2022-08-28T18:08:45.867175Z",
     "shell.execute_reply": "2022-08-28T18:08:45.891299Z"
    },
    "trusted": true,
    "cell_id": "00024-97e2a670-d53d-4300-b2f8-81dcdc61e7c2",
    "deepnote_cell_type": "code",
    "deepnote_cell_height": 151
   },
   "source": "columna = ['country', 'province', 'region_1', 'region_2']\ndf = reviews.loc[[0, 1, 10, 100], columna]\n\n# Check your answer\nq6.check()\ndf",
   "outputs": [],
   "execution_count": null
  },
  {
   "cell_type": "code",
   "metadata": {
    "execution": {
     "iopub.status.busy": "2022-08-28T18:08:31.631198Z",
     "iopub.execute_input": "2022-08-28T18:08:31.631726Z",
     "iopub.status.idle": "2022-08-28T18:08:31.636972Z",
     "shell.execute_reply.started": "2022-08-28T18:08:31.631676Z",
     "shell.execute_reply": "2022-08-28T18:08:31.635568Z"
    },
    "trusted": true,
    "cell_id": "00025-a1bb9c4a-d8b5-460c-958f-d7c921d6b3e3",
    "deepnote_cell_type": "code",
    "deepnote_cell_height": 79
   },
   "source": "#q6.hint()\n#q6.solution()",
   "outputs": [],
   "execution_count": null
  },
  {
   "cell_type": "markdown",
   "source": "## 7.\n\nCreate a variable `df` containing the `country` and `variety` columns of the first 100 records. \n\nHint: you may use `loc` or `iloc`. When working on the answer this question and the several of the ones that follow, keep the following \"gotcha\" described in the tutorial:\n\n> `iloc` uses the Python stdlib indexing scheme, where the first element of the range is included and the last one excluded. \n`loc`, meanwhile, indexes inclusively. \n\n> This is particularly confusing when the DataFrame index is a simple numerical list, e.g. `0,...,1000`. In this case `df.iloc[0:1000]` will return 1000 entries, while `df.loc[0:1000]` return 1001 of them! To get 1000 elements using `loc`, you will need to go one lower and ask for `df.iloc[0:999]`. ",
   "metadata": {
    "cell_id": "00026-6a203cab-9500-4df1-bb1f-23a8e2e412a6",
    "deepnote_cell_type": "markdown",
    "deepnote_cell_height": 402.296875
   }
  },
  {
   "cell_type": "code",
   "metadata": {
    "execution": {
     "iopub.status.busy": "2022-08-28T18:11:09.638015Z",
     "iopub.execute_input": "2022-08-28T18:11:09.638441Z",
     "iopub.status.idle": "2022-08-28T18:11:09.658330Z",
     "shell.execute_reply.started": "2022-08-28T18:11:09.638370Z",
     "shell.execute_reply": "2022-08-28T18:11:09.657276Z"
    },
    "trusted": true,
    "cell_id": "00027-6d0ef4f8-7573-4726-af90-ef4bcdac9a92",
    "deepnote_cell_type": "code",
    "deepnote_cell_height": 151
   },
   "source": "columna = ['country', 'variety']\ndf = reviews.loc[:99, columna]\n\n# Check your answer\nq7.check()\ndf",
   "outputs": [],
   "execution_count": null
  },
  {
   "cell_type": "code",
   "metadata": {
    "execution": {
     "iopub.status.busy": "2022-08-28T18:11:14.067701Z",
     "iopub.execute_input": "2022-08-28T18:11:14.068108Z",
     "iopub.status.idle": "2022-08-28T18:11:14.073213Z",
     "shell.execute_reply.started": "2022-08-28T18:11:14.068076Z",
     "shell.execute_reply": "2022-08-28T18:11:14.071833Z"
    },
    "trusted": true,
    "cell_id": "00028-aa726695-c626-46da-8b29-6bca0465bf5a",
    "deepnote_cell_type": "code",
    "deepnote_cell_height": 79
   },
   "source": "#q7.hint()\n#q7.solution()",
   "outputs": [],
   "execution_count": null
  },
  {
   "cell_type": "markdown",
   "source": "## 8.\n\nCreate a DataFrame `italian_wines` containing reviews of wines made in `Italy`. Hint: `reviews.country` equals what?",
   "metadata": {
    "cell_id": "00029-0b5a3363-ee9f-4134-afc3-dc35e29c8787",
    "deepnote_cell_type": "markdown",
    "deepnote_cell_height": 130.78125
   }
  },
  {
   "cell_type": "code",
   "metadata": {
    "execution": {
     "iopub.status.busy": "2022-08-28T18:12:07.382364Z",
     "iopub.execute_input": "2022-08-28T18:12:07.382742Z",
     "iopub.status.idle": "2022-08-28T18:12:07.408672Z",
     "shell.execute_reply.started": "2022-08-28T18:12:07.382712Z",
     "shell.execute_reply": "2022-08-28T18:12:07.407581Z"
    },
    "trusted": true,
    "cell_id": "00030-4312d9f9-5cb9-4ad0-abc2-a96ddd62119f",
    "deepnote_cell_type": "code",
    "deepnote_cell_height": 115
   },
   "source": "italian_wines = reviews[reviews.country == 'Italy']\n\n# Check your answer\nq8.check()",
   "outputs": [],
   "execution_count": null
  },
  {
   "cell_type": "code",
   "metadata": {
    "execution": {
     "iopub.status.busy": "2022-08-28T18:12:10.892818Z",
     "iopub.execute_input": "2022-08-28T18:12:10.893369Z",
     "iopub.status.idle": "2022-08-28T18:12:10.898199Z",
     "shell.execute_reply.started": "2022-08-28T18:12:10.893331Z",
     "shell.execute_reply": "2022-08-28T18:12:10.896764Z"
    },
    "trusted": true,
    "cell_id": "00031-0fb26688-aa0e-4caf-95cb-84b94dac19a1",
    "deepnote_cell_type": "code",
    "deepnote_cell_height": 79
   },
   "source": "#q8.hint()\n#q8.solution()",
   "outputs": [],
   "execution_count": null
  },
  {
   "cell_type": "markdown",
   "source": "## 9.\n\nCreate a DataFrame `top_oceania_wines` containing all reviews with at least 95 points (out of 100) for wines from Australia or New Zealand.",
   "metadata": {
    "cell_id": "00032-c02b2eef-6273-4eb0-8708-bf0d871c7ab8",
    "deepnote_cell_type": "markdown",
    "deepnote_cell_height": 130.78125
   }
  },
  {
   "cell_type": "code",
   "metadata": {
    "execution": {
     "iopub.status.busy": "2022-08-28T18:12:44.931435Z",
     "iopub.execute_input": "2022-08-28T18:12:44.931826Z",
     "iopub.status.idle": "2022-08-28T18:12:44.969132Z",
     "shell.execute_reply.started": "2022-08-28T18:12:44.931792Z",
     "shell.execute_reply": "2022-08-28T18:12:44.968088Z"
    },
    "trusted": true,
    "cell_id": "00033-1d08c738-849b-4703-9e29-9b60ea947b6b",
    "deepnote_cell_type": "code",
    "deepnote_cell_height": 187
   },
   "source": "top_oceania_wines = reviews.loc[\n    (reviews.country.isin(['Australia', 'New Zealand']))\n    & (reviews.points >= 95)\n]\n\n# Check your answer\nq9.check()\ntop_oceania_wines",
   "outputs": [],
   "execution_count": null
  },
  {
   "cell_type": "code",
   "metadata": {
    "execution": {
     "iopub.status.busy": "2022-08-28T18:12:38.038507Z",
     "iopub.execute_input": "2022-08-28T18:12:38.038938Z",
     "iopub.status.idle": "2022-08-28T18:12:38.043867Z",
     "shell.execute_reply.started": "2022-08-28T18:12:38.038891Z",
     "shell.execute_reply": "2022-08-28T18:12:38.042557Z"
    },
    "trusted": true,
    "cell_id": "00034-f4d275a2-9eae-4bd6-8b02-7ebcd0a5e54b",
    "deepnote_cell_type": "code",
    "deepnote_cell_height": 79
   },
   "source": "#q9.hint()\n#q9.solution()",
   "outputs": [],
   "execution_count": null
  },
  {
   "cell_type": "markdown",
   "source": "# Keep going\n\nMove on to learn about **[summary functions and maps](https://www.kaggle.com/residentmario/summary-functions-and-maps)**.",
   "metadata": {
    "cell_id": "00035-f2a73063-4b7b-4ac0-9b38-4e9174190e70",
    "deepnote_cell_type": "markdown",
    "deepnote_cell_height": 120.390625
   }
  },
  {
   "cell_type": "markdown",
   "source": "---\n\n\n\n\n*Have questions or comments? Visit the [course discussion forum](https://www.kaggle.com/learn/pandas/discussion) to chat with other learners.*",
   "metadata": {
    "cell_id": "00036-f8433c9c-67d6-4b38-9dcb-3f1ead30ae0e",
    "deepnote_cell_type": "markdown",
    "deepnote_cell_height": 75.78125
   }
  },
  {
   "cell_type": "markdown",
   "source": "<a style='text-decoration:none;line-height:16px;display:flex;color:#5B5B62;padding:10px;justify-content:end;' href='https://deepnote.com?utm_source=created-in-deepnote-cell&projectId=29f70007-adf4-40ee-8b1e-16db86e15a83' target=\"_blank\">\n<img alt='Created in deepnote.com' style='display:inline;max-height:16px;margin:0px;margin-right:7.5px;' src='data:image/svg+xml;base64,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' > </img>\nCreated in <span style='font-weight:600;margin-left:4px;'>Deepnote</span></a>",
   "metadata": {
    "tags": [],
    "created_in_deepnote_cell": true,
    "deepnote_cell_type": "markdown"
   }
  }
 ],
 "nbformat": 4,
 "nbformat_minor": 4,
 "metadata": {
  "kernelspec": {
   "display_name": "Python 3",
   "language": "python",
   "name": "python3"
  },
  "language_info": {
   "name": "python",
   "version": "3.7.12",
   "mimetype": "text/x-python",
   "codemirror_mode": {
    "name": "ipython",
    "version": 3
   },
   "pygments_lexer": "ipython3",
   "nbconvert_exporter": "python",
   "file_extension": ".py"
  },
  "deepnote_notebook_id": "f12bdc2d-4034-4e9f-900f-1b8d72fe2bbd",
  "deepnote": {},
  "deepnote_execution_queue": []
 }
}