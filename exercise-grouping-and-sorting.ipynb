{
 "cells": [
  {
   "cell_type": "markdown",
   "source": "**This notebook is an exercise in the [Pandas](https://www.kaggle.com/learn/pandas) course.  You can reference the tutorial at [this link](https://www.kaggle.com/residentmario/grouping-and-sorting).**\n\n---\n",
   "metadata": {
    "cell_id": "73b6c3b9-1714-404a-b147-695a87e2f12c",
    "deepnote_cell_type": "markdown",
    "deepnote_cell_height": 89.78125
   }
  },
  {
   "cell_type": "markdown",
   "source": "# Introduction\n\nIn these exercises we'll apply groupwise analysis to our dataset.\n\nRun the code cell below to load the data before running the exercises.",
   "metadata": {
    "cell_id": "00001-8207f066-64d6-471d-9800-2a21923f56cf",
    "deepnote_cell_type": "markdown",
    "deepnote_cell_height": 156.78125
   }
  },
  {
   "cell_type": "code",
   "metadata": {
    "execution": {
     "iopub.status.busy": "2022-08-28T18:51:48.651989Z",
     "iopub.execute_input": "2022-08-28T18:51:48.652433Z",
     "iopub.status.idle": "2022-08-28T18:51:49.701679Z",
     "shell.execute_reply.started": "2022-08-28T18:51:48.652395Z",
     "shell.execute_reply": "2022-08-28T18:51:49.700102Z"
    },
    "trusted": true,
    "cell_id": "00002-1cf555a6-3316-41d0-90ac-1ea9c3ca9830",
    "deepnote_cell_type": "code",
    "deepnote_cell_height": 192
   },
   "source": "import pandas as pd\n\nreviews = pd.read_csv(\"../input/wine-reviews/winemag-data-130k-v2.csv\", index_col=0)\n#pd.set_option(\"display.max_rows\", 5)\n\nfrom learntools.core import binder; binder.bind(globals())\nfrom learntools.pandas.grouping_and_sorting import *\nprint(\"Setup complete.\")",
   "outputs": [],
   "execution_count": null
  },
  {
   "cell_type": "markdown",
   "source": "# Exercises",
   "metadata": {
    "cell_id": "00003-cfe389a6-c822-4578-b65b-7e3fc46bebf0",
    "deepnote_cell_type": "markdown",
    "deepnote_cell_height": 82
   }
  },
  {
   "cell_type": "markdown",
   "source": "## 1.\nWho are the most common wine reviewers in the dataset? Create a `Series` whose index is the `taster_twitter_handle` category from the dataset, and whose values count how many reviews each person wrote.",
   "metadata": {
    "cell_id": "00004-c67b9f08-890a-40a1-92cc-b5830498d341",
    "deepnote_cell_type": "markdown",
    "deepnote_cell_height": 153.171875
   }
  },
  {
   "cell_type": "code",
   "metadata": {
    "execution": {
     "iopub.status.busy": "2022-08-28T18:51:49.703825Z",
     "iopub.execute_input": "2022-08-28T18:51:49.704300Z",
     "iopub.status.idle": "2022-08-28T18:51:49.729325Z",
     "shell.execute_reply.started": "2022-08-28T18:51:49.704264Z",
     "shell.execute_reply": "2022-08-28T18:51:49.728173Z"
    },
    "trusted": true,
    "cell_id": "00005-074b6bb4-6646-4f7c-a0bb-fbed38eb40ae",
    "deepnote_cell_type": "code",
    "deepnote_cell_height": 138
   },
   "source": "# Your code here\nreviews_written = reviews_written = reviews.groupby('taster_twitter_handle').size()\n\n# Check your answer\nq1.check()",
   "outputs": [],
   "execution_count": null
  },
  {
   "cell_type": "code",
   "metadata": {
    "execution": {
     "iopub.status.busy": "2022-08-28T18:51:49.731706Z",
     "iopub.execute_input": "2022-08-28T18:51:49.732230Z",
     "iopub.status.idle": "2022-08-28T18:51:49.737832Z",
     "shell.execute_reply.started": "2022-08-28T18:51:49.732182Z",
     "shell.execute_reply": "2022-08-28T18:51:49.736495Z"
    },
    "trusted": true,
    "cell_id": "00006-72c4c24e-f2b1-4f68-b0c5-fdcef286db5f",
    "deepnote_cell_type": "code",
    "deepnote_cell_height": 79
   },
   "source": "#q1.hint()\n#q1.solution()",
   "outputs": [],
   "execution_count": null
  },
  {
   "cell_type": "markdown",
   "source": "## 2.\nWhat is the best wine I can buy for a given amount of money? Create a `Series` whose index is wine prices and whose values is the maximum number of points a wine costing that much was given in a review. Sort the values by price, ascending (so that `4.0` dollars is at the top and `3300.0` dollars is at the bottom).",
   "metadata": {
    "cell_id": "00007-95d2820f-c865-45ad-b726-8aca61ac5aff",
    "deepnote_cell_type": "markdown",
    "deepnote_cell_height": 175.5625
   }
  },
  {
   "cell_type": "code",
   "metadata": {
    "execution": {
     "iopub.status.busy": "2022-08-28T18:51:49.741473Z",
     "iopub.execute_input": "2022-08-28T18:51:49.742258Z",
     "iopub.status.idle": "2022-08-28T18:51:49.759611Z",
     "shell.execute_reply.started": "2022-08-28T18:51:49.742205Z",
     "shell.execute_reply": "2022-08-28T18:51:49.758398Z"
    },
    "trusted": true,
    "cell_id": "00008-8e9bed81-fb0d-4f1f-a5d7-b11163217d47",
    "deepnote_cell_type": "code",
    "deepnote_cell_height": 120
   },
   "source": "best_rating_per_price = reviews.groupby('price')['points'].max().sort_index()\n\n# Check your answer\nq2.check()",
   "outputs": [],
   "execution_count": null
  },
  {
   "cell_type": "code",
   "metadata": {
    "execution": {
     "iopub.status.busy": "2022-08-28T18:51:49.761752Z",
     "iopub.execute_input": "2022-08-28T18:51:49.762707Z",
     "iopub.status.idle": "2022-08-28T18:51:49.768164Z",
     "shell.execute_reply.started": "2022-08-28T18:51:49.762621Z",
     "shell.execute_reply": "2022-08-28T18:51:49.766817Z"
    },
    "trusted": true,
    "cell_id": "00009-fa38d1ef-0391-478c-8f3d-15fb7777d749",
    "deepnote_cell_type": "code",
    "deepnote_cell_height": 79
   },
   "source": "#q2.hint()\n#q2.solution()",
   "outputs": [],
   "execution_count": null
  },
  {
   "cell_type": "markdown",
   "source": "## 3.\nWhat are the minimum and maximum prices for each `variety` of wine? Create a `DataFrame` whose index is the `variety` category from the dataset and whose values are the `min` and `max` values thereof.",
   "metadata": {
    "cell_id": "00010-38ce31c9-aa3e-4509-812b-39f2e3e48ebc",
    "deepnote_cell_type": "markdown",
    "deepnote_cell_height": 153.171875
   }
  },
  {
   "cell_type": "code",
   "metadata": {
    "execution": {
     "iopub.status.busy": "2022-08-28T18:51:49.769861Z",
     "iopub.execute_input": "2022-08-28T18:51:49.770837Z",
     "iopub.status.idle": "2022-08-28T18:51:49.803573Z",
     "shell.execute_reply.started": "2022-08-28T18:51:49.770787Z",
     "shell.execute_reply": "2022-08-28T18:51:49.802153Z"
    },
    "trusted": true,
    "cell_id": "00011-c34a9002-7527-4cdf-b7e5-5da4facee795",
    "deepnote_cell_type": "code",
    "deepnote_cell_height": 115
   },
   "source": "price_extremes = reviews.groupby('variety').price.agg([min, max])\n\n# Check your answer\nq3.check()",
   "outputs": [],
   "execution_count": null
  },
  {
   "cell_type": "code",
   "metadata": {
    "execution": {
     "iopub.status.busy": "2022-08-28T18:51:49.805285Z",
     "iopub.execute_input": "2022-08-28T18:51:49.806720Z",
     "iopub.status.idle": "2022-08-28T18:51:49.811830Z",
     "shell.execute_reply.started": "2022-08-28T18:51:49.806665Z",
     "shell.execute_reply": "2022-08-28T18:51:49.810565Z"
    },
    "trusted": true,
    "cell_id": "00012-583d081b-42ee-4f88-a6bf-2bc33722931d",
    "deepnote_cell_type": "code",
    "deepnote_cell_height": 79
   },
   "source": "#q3.hint()\n#q3.solution()",
   "outputs": [],
   "execution_count": null
  },
  {
   "cell_type": "markdown",
   "source": "## 4.\nWhat are the most expensive wine varieties? Create a variable `sorted_varieties` containing a copy of the dataframe from the previous question where varieties are sorted in descending order based on minimum price, then on maximum price (to break ties).",
   "metadata": {
    "cell_id": "00013-68b678d8-8399-4ca1-bd22-22a8be9276a4",
    "deepnote_cell_type": "markdown",
    "deepnote_cell_height": 175.5625
   }
  },
  {
   "cell_type": "code",
   "metadata": {
    "execution": {
     "iopub.status.busy": "2022-08-28T18:51:49.813438Z",
     "iopub.execute_input": "2022-08-28T18:51:49.814220Z",
     "iopub.status.idle": "2022-08-28T18:51:49.832265Z",
     "shell.execute_reply.started": "2022-08-28T18:51:49.814161Z",
     "shell.execute_reply": "2022-08-28T18:51:49.830904Z"
    },
    "trusted": true,
    "cell_id": "00014-e2c58170-0bf1-491a-b88f-9e83a9aa523d",
    "deepnote_cell_type": "code",
    "deepnote_cell_height": 120
   },
   "source": "sorted_varieties = price_extremes.sort_values(by=['min', 'max'], ascending=False)\n\n# Check your answer\nq4.check()",
   "outputs": [],
   "execution_count": null
  },
  {
   "cell_type": "code",
   "metadata": {
    "execution": {
     "iopub.status.busy": "2022-08-28T18:51:49.833622Z",
     "iopub.execute_input": "2022-08-28T18:51:49.834983Z",
     "iopub.status.idle": "2022-08-28T18:51:49.840627Z",
     "shell.execute_reply.started": "2022-08-28T18:51:49.834936Z",
     "shell.execute_reply": "2022-08-28T18:51:49.839465Z"
    },
    "trusted": true,
    "cell_id": "00015-bd5890ed-6f49-4de0-93ff-263db81fe759",
    "deepnote_cell_type": "code",
    "deepnote_cell_height": 79
   },
   "source": "#q4.hint()\n#q4.solution()",
   "outputs": [],
   "execution_count": null
  },
  {
   "cell_type": "markdown",
   "source": "## 5.\nCreate a `Series` whose index is reviewers and whose values is the average review score given out by that reviewer. Hint: you will need the `taster_name` and `points` columns.",
   "metadata": {
    "cell_id": "00016-d9e3a9e6-d076-4c51-b055-3bb45a04d3f7",
    "deepnote_cell_type": "markdown",
    "deepnote_cell_height": 153.171875
   }
  },
  {
   "cell_type": "code",
   "metadata": {
    "execution": {
     "iopub.status.busy": "2022-08-28T18:51:49.844914Z",
     "iopub.execute_input": "2022-08-28T18:51:49.846313Z",
     "iopub.status.idle": "2022-08-28T18:51:49.873288Z",
     "shell.execute_reply.started": "2022-08-28T18:51:49.846253Z",
     "shell.execute_reply": "2022-08-28T18:51:49.872076Z"
    },
    "trusted": true,
    "cell_id": "00017-d15a8f38-398f-4439-bb78-ae8f97ded88a",
    "deepnote_cell_type": "code",
    "deepnote_cell_height": 115
   },
   "source": "reviewer_mean_ratings = reviews.groupby('taster_name').points.mean()\n\n# Check your answer\nq5.check()",
   "outputs": [],
   "execution_count": null
  },
  {
   "cell_type": "code",
   "metadata": {
    "execution": {
     "iopub.status.busy": "2022-08-28T18:51:49.874990Z",
     "iopub.execute_input": "2022-08-28T18:51:49.875728Z",
     "iopub.status.idle": "2022-08-28T18:51:49.880974Z",
     "shell.execute_reply.started": "2022-08-28T18:51:49.875677Z",
     "shell.execute_reply": "2022-08-28T18:51:49.879694Z"
    },
    "trusted": true,
    "cell_id": "00018-9dc9251d-94fd-4507-a5e0-8023bd26f1c2",
    "deepnote_cell_type": "code",
    "deepnote_cell_height": 79
   },
   "source": "#q5.hint()\n#q5.solution()",
   "outputs": [],
   "execution_count": null
  },
  {
   "cell_type": "markdown",
   "source": "Are there significant differences in the average scores assigned by the various reviewers? Run the cell below to use the `describe()` method to see a summary of the range of values.",
   "metadata": {
    "cell_id": "00019-a44f18ef-d86b-4cf4-b190-99637520e024",
    "deepnote_cell_type": "markdown",
    "deepnote_cell_height": 97.171875
   }
  },
  {
   "cell_type": "code",
   "metadata": {
    "execution": {
     "iopub.status.busy": "2022-08-28T18:51:49.882702Z",
     "iopub.execute_input": "2022-08-28T18:51:49.883845Z",
     "iopub.status.idle": "2022-08-28T18:51:49.898157Z",
     "shell.execute_reply.started": "2022-08-28T18:51:49.883799Z",
     "shell.execute_reply": "2022-08-28T18:51:49.896566Z"
    },
    "trusted": true,
    "cell_id": "00020-37202e22-9e0f-4190-aed0-5019925d2db0",
    "deepnote_cell_type": "code",
    "deepnote_cell_height": 61
   },
   "source": "reviewer_mean_ratings.describe()",
   "outputs": [],
   "execution_count": null
  },
  {
   "cell_type": "markdown",
   "source": "## 6.\nWhat combination of countries and varieties are most common? Create a `Series` whose index is a `MultiIndex`of `{country, variety}` pairs. For example, a pinot noir produced in the US should map to `{\"US\", \"Pinot Noir\"}`. Sort the values in the `Series` in descending order based on wine count.",
   "metadata": {
    "cell_id": "00021-f9cfd191-9f03-4882-afc8-2e3bec01f9e9",
    "deepnote_cell_type": "markdown",
    "deepnote_cell_height": 175.5625
   }
  },
  {
   "cell_type": "code",
   "metadata": {
    "execution": {
     "iopub.status.busy": "2022-08-28T18:51:49.899727Z",
     "iopub.execute_input": "2022-08-28T18:51:49.900794Z",
     "iopub.status.idle": "2022-08-28T18:51:49.936615Z",
     "shell.execute_reply.started": "2022-08-28T18:51:49.900754Z",
     "shell.execute_reply": "2022-08-28T18:51:49.935742Z"
    },
    "trusted": true,
    "cell_id": "00022-bf1191fc-2079-4e82-b387-90db1290d11a",
    "deepnote_cell_type": "code",
    "deepnote_cell_height": 120
   },
   "source": "country_variety_counts = reviews.groupby(['country', 'variety']).size().sort_values(ascending=False)\n\n# Check your answer\nq6.check()",
   "outputs": [],
   "execution_count": null
  },
  {
   "cell_type": "code",
   "metadata": {
    "execution": {
     "iopub.status.busy": "2022-08-28T18:51:49.937997Z",
     "iopub.execute_input": "2022-08-28T18:51:49.939037Z",
     "iopub.status.idle": "2022-08-28T18:51:49.943294Z",
     "shell.execute_reply.started": "2022-08-28T18:51:49.939000Z",
     "shell.execute_reply": "2022-08-28T18:51:49.942195Z"
    },
    "trusted": true,
    "cell_id": "00023-bb4dde0d-0768-41f9-91f5-9259a3783ea6",
    "deepnote_cell_type": "code",
    "deepnote_cell_height": 79
   },
   "source": "#q6.hint()\n#q6.solution()",
   "outputs": [],
   "execution_count": null
  },
  {
   "cell_type": "markdown",
   "source": "# Keep going\n\nMove on to the [**data types and missing data**](https://www.kaggle.com/residentmario/data-types-and-missing-values).",
   "metadata": {
    "cell_id": "00024-85f97478-a71c-43d5-b299-6b018aa84874",
    "deepnote_cell_type": "markdown",
    "deepnote_cell_height": 120.390625
   }
  },
  {
   "cell_type": "markdown",
   "source": "---\n\n\n\n\n*Have questions or comments? Visit the [course discussion forum](https://www.kaggle.com/learn/pandas/discussion) to chat with other learners.*",
   "metadata": {
    "cell_id": "00025-cf5dc2d6-e020-4c53-86c6-f7c1379dc39d",
    "deepnote_cell_type": "markdown",
    "deepnote_cell_height": 75.78125
   }
  },
  {
   "cell_type": "markdown",
   "source": "<a style='text-decoration:none;line-height:16px;display:flex;color:#5B5B62;padding:10px;justify-content:end;' href='https://deepnote.com?utm_source=created-in-deepnote-cell&projectId=44ea4f93-4866-4700-894d-16d0a71f779f' target=\"_blank\">\n<img alt='Created in deepnote.com' style='display:inline;max-height:16px;margin:0px;margin-right:7.5px;' src='data:image/svg+xml;base64,PD94bWwgdmVyc2lvbj0iMS4wIiBlbmNvZGluZz0iVVRGLTgiPz4KPHN2ZyB3aWR0aD0iODBweCIgaGVpZ2h0PSI4MHB4IiB2aWV3Qm94PSIwIDAgODAgODAiIHZlcnNpb249IjEuMSIgeG1sbnM9Imh0dHA6Ly93d3cudzMub3JnLzIwMDAvc3ZnIiB4bWxuczp4bGluaz0iaHR0cDovL3d3dy53My5vcmcvMTk5OS94bGluayI+CiAgICA8IS0tIEdlbmVyYXRvcjogU2tldGNoIDU0LjEgKDc2NDkwKSAtIGh0dHBzOi8vc2tldGNoYXBwLmNvbSAtLT4KICAgIDx0aXRsZT5Hcm91cCAzPC90aXRsZT4KICAgIDxkZXNjPkNyZWF0ZWQgd2l0aCBTa2V0Y2guPC9kZXNjPgogICAgPGcgaWQ9IkxhbmRpbmciIHN0cm9rZT0ibm9uZSIgc3Ryb2tlLXdpZHRoPSIxIiBmaWxsPSJub25lIiBmaWxsLXJ1bGU9ImV2ZW5vZGQiPgogICAgICAgIDxnIGlkPSJBcnRib2FyZCIgdHJhbnNmb3JtPSJ0cmFuc2xhdGUoLTEyMzUuMDAwMDAwLCAtNzkuMDAwMDAwKSI+CiAgICAgICAgICAgIDxnIGlkPSJHcm91cC0zIiB0cmFuc2Zvcm09InRyYW5zbGF0ZSgxMjM1LjAwMDAwMCwgNzkuMDAwMDAwKSI+CiAgICAgICAgICAgICAgICA8cG9seWdvbiBpZD0iUGF0aC0yMCIgZmlsbD0iIzAyNjVCNCIgcG9pbnRzPSIyLjM3NjIzNzYyIDgwIDM4LjA0NzY2NjcgODAgNTcuODIxNzgyMiA3My44MDU3NTkyIDU3LjgyMTc4MjIgMzIuNzU5MjczOSAzOS4xNDAyMjc4IDMxLjY4MzE2ODMiPjwvcG9seWdvbj4KICAgICAgICAgICAgICAgIDxwYXRoIGQ9Ik0zNS4wMDc3MTgsODAgQzQyLjkwNjIwMDcsNzYuNDU0OTM1OCA0Ny41NjQ5MTY3LDcxLjU0MjI2NzEgNDguOTgzODY2LDY1LjI2MTk5MzkgQzUxLjExMjI4OTksNTUuODQxNTg0MiA0MS42NzcxNzk1LDQ5LjIxMjIyODQgMjUuNjIzOTg0Niw0OS4yMTIyMjg0IEMyNS40ODQ5Mjg5LDQ5LjEyNjg0NDggMjkuODI2MTI5Niw0My4yODM4MjQ4IDM4LjY0NzU4NjksMzEuNjgzMTY4MyBMNzIuODcxMjg3MSwzMi41NTQ0MjUgTDY1LjI4MDk3Myw2Ny42NzYzNDIxIEw1MS4xMTIyODk5LDc3LjM3NjE0NCBMMzUuMDA3NzE4LDgwIFoiIGlkPSJQYXRoLTIyIiBmaWxsPSIjMDAyODY4Ij48L3BhdGg+CiAgICAgICAgICAgICAgICA8cGF0aCBkPSJNMCwzNy43MzA0NDA1IEwyNy4xMTQ1MzcsMC4yNTcxMTE0MzYgQzYyLjM3MTUxMjMsLTEuOTkwNzE3MDEgODAsMTAuNTAwMzkyNyA4MCwzNy43MzA0NDA1IEM4MCw2NC45NjA0ODgyIDY0Ljc3NjUwMzgsNzkuMDUwMzQxNCAzNC4zMjk1MTEzLDgwIEM0Ny4wNTUzNDg5LDc3LjU2NzA4MDggNTMuNDE4MjY3Nyw3MC4zMTM2MTAzIDUzLjQxODI2NzcsNTguMjM5NTg4NSBDNTMuNDE4MjY3Nyw0MC4xMjg1NTU3IDM2LjMwMzk1NDQsMzcuNzMwNDQwNSAyNS4yMjc0MTcsMzcuNzMwNDQwNSBDMTcuODQzMDU4NiwzNy43MzA0NDA1IDkuNDMzOTE5NjYsMzcuNzMwNDQwNSAwLDM3LjczMDQ0MDUgWiIgaWQ9IlBhdGgtMTkiIGZpbGw9IiMzNzkzRUYiPjwvcGF0aD4KICAgICAgICAgICAgPC9nPgogICAgICAgIDwvZz4KICAgIDwvZz4KPC9zdmc+' > </img>\nCreated in <span style='font-weight:600;margin-left:4px;'>Deepnote</span></a>",
   "metadata": {
    "tags": [],
    "created_in_deepnote_cell": true,
    "deepnote_cell_type": "markdown"
   }
  }
 ],
 "nbformat": 4,
 "nbformat_minor": 4,
 "metadata": {
  "kernelspec": {
   "display_name": "Python 3",
   "language": "python",
   "name": "python3"
  },
  "language_info": {
   "name": "python",
   "version": "3.7.12",
   "mimetype": "text/x-python",
   "codemirror_mode": {
    "name": "ipython",
    "version": 3
   },
   "pygments_lexer": "ipython3",
   "nbconvert_exporter": "python",
   "file_extension": ".py"
  },
  "deepnote_notebook_id": "8650a2a5-71dc-4b76-8a4f-7834db87ea51",
  "deepnote": {},
  "deepnote_execution_queue": []
 }
}