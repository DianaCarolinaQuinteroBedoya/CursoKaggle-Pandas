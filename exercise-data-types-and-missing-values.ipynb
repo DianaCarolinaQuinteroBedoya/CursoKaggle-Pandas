{
 "cells": [
  {
   "cell_type": "markdown",
   "source": "**This notebook is an exercise in the [Pandas](https://www.kaggle.com/learn/pandas) course.  You can reference the tutorial at [this link](https://www.kaggle.com/residentmario/data-types-and-missing-values).**\n\n---\n",
   "metadata": {
    "cell_id": "7a538e12-0fcb-4e35-9890-c09fd300f987",
    "deepnote_cell_type": "markdown",
    "deepnote_cell_height": 89.78125
   }
  },
  {
   "cell_type": "markdown",
   "source": "# Introduction\n\nRun the following cell to load your data and some utility functions.",
   "metadata": {
    "cell_id": "00001-087ff750-0395-4f00-b096-16482f19a1da",
    "deepnote_cell_type": "markdown",
    "deepnote_cell_height": 120.390625
   }
  },
  {
   "cell_type": "code",
   "metadata": {
    "execution": {
     "iopub.status.busy": "2022-08-28T19:00:45.001569Z",
     "iopub.execute_input": "2022-08-28T19:00:45.001987Z",
     "iopub.status.idle": "2022-08-28T19:00:45.985315Z",
     "shell.execute_reply.started": "2022-08-28T19:00:45.001956Z",
     "shell.execute_reply": "2022-08-28T19:00:45.984015Z"
    },
    "trusted": true,
    "cell_id": "00002-e4d92695-5a3a-4f3d-9870-623efc0c0b75",
    "deepnote_cell_type": "code",
    "deepnote_cell_height": 174
   },
   "source": "import pandas as pd\n\nreviews = pd.read_csv(\"../input/wine-reviews/winemag-data-130k-v2.csv\", index_col=0)\n\nfrom learntools.core import binder; binder.bind(globals())\nfrom learntools.pandas.data_types_and_missing_data import *\nprint(\"Setup complete.\")",
   "outputs": [],
   "execution_count": null
  },
  {
   "cell_type": "markdown",
   "source": "# Exercises",
   "metadata": {
    "cell_id": "00003-d215536a-84b9-46c3-b830-023c74976553",
    "deepnote_cell_type": "markdown",
    "deepnote_cell_height": 82
   }
  },
  {
   "cell_type": "markdown",
   "source": "## 1. \nWhat is the data type of the `points` column in the dataset?",
   "metadata": {
    "cell_id": "00004-9d083e64-eff6-4e3d-bd45-53be53ab0e1c",
    "deepnote_cell_type": "markdown",
    "deepnote_cell_height": 108.390625
   }
  },
  {
   "cell_type": "code",
   "metadata": {
    "execution": {
     "iopub.status.busy": "2022-08-28T19:00:45.987587Z",
     "iopub.execute_input": "2022-08-28T19:00:45.988538Z",
     "iopub.status.idle": "2022-08-28T19:00:45.998926Z",
     "shell.execute_reply.started": "2022-08-28T19:00:45.988494Z",
     "shell.execute_reply": "2022-08-28T19:00:45.997622Z"
    },
    "trusted": true,
    "cell_id": "00005-12f62a56-ade6-4f25-bc96-24b822142079",
    "deepnote_cell_type": "code",
    "deepnote_cell_height": 133
   },
   "source": "# Your code here\ndtype = reviews.points.dtype\n\n# Check your answer\nq1.check()",
   "outputs": [],
   "execution_count": null
  },
  {
   "cell_type": "code",
   "metadata": {
    "execution": {
     "iopub.status.busy": "2022-08-28T19:00:46.000423Z",
     "iopub.execute_input": "2022-08-28T19:00:46.001008Z",
     "iopub.status.idle": "2022-08-28T19:00:46.007398Z",
     "shell.execute_reply.started": "2022-08-28T19:00:46.000966Z",
     "shell.execute_reply": "2022-08-28T19:00:46.006539Z"
    },
    "trusted": true,
    "cell_id": "00006-0b175ee6-78f7-4f42-8578-5573e02eaacb",
    "deepnote_cell_type": "code",
    "deepnote_cell_height": 79
   },
   "source": "#q1.hint()\n#q1.solution()",
   "outputs": [],
   "execution_count": null
  },
  {
   "cell_type": "markdown",
   "source": "## 2. \nCreate a Series from entries in the `points` column, but convert the entries to strings. Hint: strings are `str` in native Python.",
   "metadata": {
    "cell_id": "00007-91a615ed-6022-4dda-8840-18e0cbb3a083",
    "deepnote_cell_type": "markdown",
    "deepnote_cell_height": 130.78125
   }
  },
  {
   "cell_type": "code",
   "metadata": {
    "execution": {
     "iopub.status.busy": "2022-08-28T19:00:46.010581Z",
     "iopub.execute_input": "2022-08-28T19:00:46.011390Z",
     "iopub.status.idle": "2022-08-28T19:00:46.099854Z",
     "shell.execute_reply.started": "2022-08-28T19:00:46.011349Z",
     "shell.execute_reply": "2022-08-28T19:00:46.098577Z"
    },
    "trusted": true,
    "cell_id": "00008-50938882-10bb-4fb3-bbc6-28481bd21025",
    "deepnote_cell_type": "code",
    "deepnote_cell_height": 115
   },
   "source": "point_strings = reviews.points.astype(str)\n\n# Check your answer\nq2.check()",
   "outputs": [],
   "execution_count": null
  },
  {
   "cell_type": "code",
   "metadata": {
    "execution": {
     "iopub.status.busy": "2022-08-28T19:00:46.101610Z",
     "iopub.execute_input": "2022-08-28T19:00:46.102397Z",
     "iopub.status.idle": "2022-08-28T19:00:46.108299Z",
     "shell.execute_reply.started": "2022-08-28T19:00:46.102353Z",
     "shell.execute_reply": "2022-08-28T19:00:46.107066Z"
    },
    "trusted": true,
    "cell_id": "00009-aafbd1d7-35ea-4083-8e63-5290a2805a65",
    "deepnote_cell_type": "code",
    "deepnote_cell_height": 79
   },
   "source": "#q2.hint()\n#q2.solution()",
   "outputs": [],
   "execution_count": null
  },
  {
   "cell_type": "markdown",
   "source": "## 3.\nSometimes the price column is null. How many reviews in the dataset are missing a price?",
   "metadata": {
    "cell_id": "00010-2e477205-d653-4412-9388-8d55576b2122",
    "deepnote_cell_type": "markdown",
    "deepnote_cell_height": 130.78125
   }
  },
  {
   "cell_type": "code",
   "metadata": {
    "execution": {
     "iopub.status.busy": "2022-08-28T19:00:46.110204Z",
     "iopub.execute_input": "2022-08-28T19:00:46.110653Z",
     "iopub.status.idle": "2022-08-28T19:00:46.134129Z",
     "shell.execute_reply.started": "2022-08-28T19:00:46.110610Z",
     "shell.execute_reply": "2022-08-28T19:00:46.132896Z"
    },
    "trusted": true,
    "cell_id": "00011-71a28369-10e3-4459-9cf8-545c48fef462",
    "deepnote_cell_type": "code",
    "deepnote_cell_height": 115
   },
   "source": "n_missing_prices = len(reviews[reviews.price.isnull()])\n\n# Check your answer\nq3.check()",
   "outputs": [],
   "execution_count": null
  },
  {
   "cell_type": "code",
   "metadata": {
    "execution": {
     "iopub.status.busy": "2022-08-28T19:00:46.135876Z",
     "iopub.execute_input": "2022-08-28T19:00:46.136328Z",
     "iopub.status.idle": "2022-08-28T19:00:46.140840Z",
     "shell.execute_reply.started": "2022-08-28T19:00:46.136287Z",
     "shell.execute_reply": "2022-08-28T19:00:46.140018Z"
    },
    "trusted": true,
    "cell_id": "00012-74894db4-1308-4cfd-81de-8075f1e2020c",
    "deepnote_cell_type": "code",
    "deepnote_cell_height": 79
   },
   "source": "#q3.hint()\n#q3.solution()",
   "outputs": [],
   "execution_count": null
  },
  {
   "cell_type": "markdown",
   "source": "## 4.\nWhat are the most common wine-producing regions? Create a Series counting the number of times each value occurs in the `region_1` field. This field is often missing data, so replace missing values with `Unknown`. Sort in descending order.  Your output should look something like this:\n\n```\nUnknown                    21247\nNapa Valley                 4480\n                           ...  \nBardolino Superiore            1\nPrimitivo del Tarantino        1\nName: region_1, Length: 1230, dtype: int64\n```",
   "metadata": {
    "cell_id": "00013-1556d164-97fb-449c-8de7-eb0c29bf692d",
    "deepnote_cell_type": "markdown",
    "deepnote_cell_height": 334.34375
   }
  },
  {
   "cell_type": "code",
   "metadata": {
    "execution": {
     "iopub.status.busy": "2022-08-28T19:00:46.142111Z",
     "iopub.execute_input": "2022-08-28T19:00:46.142643Z",
     "iopub.status.idle": "2022-08-28T19:00:46.193001Z",
     "shell.execute_reply.started": "2022-08-28T19:00:46.142611Z",
     "shell.execute_reply": "2022-08-28T19:00:46.191984Z"
    },
    "trusted": true,
    "cell_id": "00014-b7ff33a9-5cff-4736-aa1f-468a02803685",
    "deepnote_cell_type": "code",
    "deepnote_cell_height": 120
   },
   "source": "reviews_per_region = reviews.region_1.fillna('Unknown').value_counts().sort_values(ascending=False)\n\n# Check your answer\nq4.check()",
   "outputs": [],
   "execution_count": null
  },
  {
   "cell_type": "code",
   "metadata": {
    "execution": {
     "iopub.status.busy": "2022-08-28T19:00:46.194344Z",
     "iopub.execute_input": "2022-08-28T19:00:46.194745Z",
     "iopub.status.idle": "2022-08-28T19:00:46.198959Z",
     "shell.execute_reply.started": "2022-08-28T19:00:46.194717Z",
     "shell.execute_reply": "2022-08-28T19:00:46.198253Z"
    },
    "trusted": true,
    "cell_id": "00015-16d41c98-ba94-49dd-9c0b-4d550ea32d84",
    "deepnote_cell_type": "code",
    "deepnote_cell_height": 79
   },
   "source": "#q4.hint()\n#q4.solution()",
   "outputs": [],
   "execution_count": null
  },
  {
   "cell_type": "markdown",
   "source": "# Keep going\n\nMove on to **[renaming and combining](https://www.kaggle.com/residentmario/renaming-and-combining)**.",
   "metadata": {
    "cell_id": "00016-4f6513f7-1698-4fae-9d4b-1993008c8e97",
    "deepnote_cell_type": "markdown",
    "deepnote_cell_height": 120.390625
   }
  },
  {
   "cell_type": "markdown",
   "source": "---\n\n\n\n\n*Have questions or comments? Visit the [course discussion forum](https://www.kaggle.com/learn/pandas/discussion) to chat with other learners.*",
   "metadata": {
    "cell_id": "00017-c8ad4130-002b-42e7-99c8-cf715d67ef4a",
    "deepnote_cell_type": "markdown",
    "deepnote_cell_height": 75.78125
   }
  },
  {
   "cell_type": "markdown",
   "source": "<a style='text-decoration:none;line-height:16px;display:flex;color:#5B5B62;padding:10px;justify-content:end;' href='https://deepnote.com?utm_source=created-in-deepnote-cell&projectId=ffad2f39-ead2-4922-ae16-8a30d3a3a072' target=\"_blank\">\n<img alt='Created in deepnote.com' style='display:inline;max-height:16px;margin:0px;margin-right:7.5px;' src='data:image/svg+xml;base64,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' > </img>\nCreated in <span style='font-weight:600;margin-left:4px;'>Deepnote</span></a>",
   "metadata": {
    "tags": [],
    "created_in_deepnote_cell": true,
    "deepnote_cell_type": "markdown"
   }
  }
 ],
 "nbformat": 4,
 "nbformat_minor": 4,
 "metadata": {
  "kernelspec": {
   "display_name": "Python 3",
   "language": "python",
   "name": "python3"
  },
  "language_info": {
   "name": "python",
   "version": "3.7.12",
   "mimetype": "text/x-python",
   "codemirror_mode": {
    "name": "ipython",
    "version": 3
   },
   "pygments_lexer": "ipython3",
   "nbconvert_exporter": "python",
   "file_extension": ".py"
  },
  "deepnote_notebook_id": "a05e757b-4d21-41c0-8a21-5a44c899ad38",
  "deepnote": {},
  "deepnote_execution_queue": []
 }
}